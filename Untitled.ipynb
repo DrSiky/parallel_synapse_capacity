{
 "cells": [
  {
   "cell_type": "code",
   "execution_count": 1,
   "id": "e9e2f6e7",
   "metadata": {},
   "outputs": [
    {
     "name": "stderr",
     "output_type": "stream",
     "text": [
      "/tmp/ipykernel_1829/4095972295.py:1: DeprecationWarning: Importing display from IPython.core.display is deprecated since IPython 7.14, please import from IPython display\n",
      "  from IPython.core.display import display, HTML\n"
     ]
    },
    {
     "data": {
      "text/html": [
       "<style>.container {width: 100% !important}</style>"
      ],
      "text/plain": [
       "<IPython.core.display.HTML object>"
      ]
     },
     "metadata": {},
     "output_type": "display_data"
    }
   ],
   "source": [
    "\n",
    "from IPython.core.display import display, HTML\n",
    "display(HTML('<style>.container {width: 100% !important}</style>'))"
   ]
  },
  {
   "cell_type": "code",
   "execution_count": 2,
   "id": "cfe7d406",
   "metadata": {},
   "outputs": [
    {
     "data": {
      "text/html": [
       "<style>\n",
       ".output {\n",
       "    font-size: 14px;\n",
       "}\n",
       "</style>\n"
      ],
      "text/plain": [
       "<IPython.core.display.HTML object>"
      ]
     },
     "metadata": {},
     "output_type": "display_data"
    }
   ],
   "source": [
    "%%html\n",
    "<style>\n",
    ".output {\n",
    "    font-size: 14px;\n",
    "}\n",
    "</style>"
   ]
  },
  {
   "cell_type": "code",
   "execution_count": 3,
   "id": "8735b729",
   "metadata": {},
   "outputs": [],
   "source": [
    "\n",
    "import numpy as np \n",
    "import torch\n",
    "# import multiprocessing as mp\n",
    "# from parallel_syn_params_select import *\n",
    "import datetime\n",
    "from IPython.display import clear_output\n",
    "import time\n",
    "import matplotlib.pyplot as plt \n",
    "# import torch.autograd.profiler as profiler\n",
    "# from torch.profiler import profile, record_function, ProfilerActivity\n",
    "import pickle \n",
    "from queue import deque\n",
    "from torch.optim.lr_scheduler import ReduceLROnPlateau"
   ]
  },
  {
   "cell_type": "code",
   "execution_count": 4,
   "id": "983374e2",
   "metadata": {},
   "outputs": [],
   "source": [
    "\n",
    "def save_model(obj, file):\n",
    "\twith open(file, 'wb') as outp:\n",
    "\t\tpickle.dump(obj, outp, pickle.HIGHEST_PROTOCOL)\n",
    "\n",
    "\n",
    "def generate_data_torch(nDimension = 10, nSample = 100, randomSeed = 2, device =torch.device('cpu')):\n",
    "\ttorch.manual_seed(randomSeed)\n",
    "\tdata = torch.rand(nDimension, nSample, device = device)\n",
    "#     label = np.sign(rng.randn(nSample, 1)).ravel()\n",
    "\tlabel = torch.ones((nSample, 1), device = device).ravel()\n",
    "\tlabel[:int(nSample/2)] = -1\n",
    "\treturn data, label\n",
    "\n",
    "def hingeLoss(actv, theta, label, margin):\n",
    "    return (torch.maximum(torch.zeros_like(actv), margin - (actv - theta) * label)).sum()"
   ]
  },
  {
   "cell_type": "code",
   "execution_count": 5,
   "id": "0d2d3bd6",
   "metadata": {},
   "outputs": [],
   "source": [
    "def custom_pdf(x, a = 0., b = .5):\n",
    "    return b * np.abs(x-.5) + a\n",
    " \n",
    "def inverse_cdf(p):\n",
    "    x = np.linspace(0, 1, 1000) \n",
    "    cdf = np.cumsum(custom_pdf(x))/np.sum(custom_pdf(x))   \n",
    "    return np.interp(p, cdf, x)\n",
    "\n",
    "def plot_trial(trial, model, path, repeat,t):\n",
    "    accList= [acc.cpu() for acc in trial.acc_history]\n",
    "    lossList= [loss.cpu() for loss in trial.loss_history]\n",
    "    fig = plt.figure(figsize = (8, 5))  \n",
    "    plt.subplot(2,3,1)\n",
    "    plt.plot(accList)\n",
    "    plt.title('acc. ={:.6f}, '.format(trial.acc.detach().cpu())+ str(repeat) + ' * 4k epoch')\n",
    "    plt.grid() \n",
    "    plt.subplot(2,3,2)\n",
    "    plt.plot(lossList) \n",
    "    plt.title('loss\\n '+'time past: '+str(datetime.timedelta(seconds=t)))\n",
    "    plt.grid() \n",
    "    plt.subplot(2,3,4)\n",
    "    plt.hist(model.thres.detach().cpu().numpy().ravel(), bins = 30)\n",
    "    plt.title('thres hist')\n",
    "    plt.subplot(2,3,5)\n",
    "    plt.hist(model.slope.detach().cpu().numpy().ravel(), bins = 30)\n",
    "    plt.title('slope hist')\n",
    "    plt.subplot(2,3,6)\n",
    "    plt.hist(model.ampli.detach().cpu().numpy().ravel(), bins = 30)\n",
    "    plt.title('ampli hist, {:.3f} of ampli < {:.3f}'.format((model.ampli.detach().cpu().numpy().ravel() < trial.minAmpli).mean(), trial.minAmpli))\n",
    "    plt.tight_layout()\n",
    "    plt.savefig(path + '.png')\n",
    "    plt.show() "
   ]
  },
  {
   "cell_type": "code",
   "execution_count": 6,
   "id": "ad92c57f",
   "metadata": {},
   "outputs": [],
   "source": [
    "class ParallelSyn(torch.nn.Module):\n",
    "    def __init__(self, params):\n",
    "        super().__init__()\n",
    "        for k in params:\n",
    "            setattr(self, k, params[k])\n",
    "        torch.manual_seed(self.seed)\n",
    "        self.ampli = torch.nn.Parameter(torch.rand(self.M, self.N, device = params['device']))  \n",
    "        self.slope = torch.nn.Parameter(torch.rand(self.M, self.N, device = params['device'])*500) \n",
    "        self.thres = torch.nn.Parameter(torch.rand(self.M, self.N, device = params['device']))\n",
    "        self.theta = torch.nn.Parameter(torch.rand(1, device = params['device']))\n",
    "    def forward(self, data):  \n",
    "        self.actv = (data - self.thres.unsqueeze(2))             #   7.01\n",
    "        self.actv = self.actv * self.slope.unsqueeze(2)          # 21.11\n",
    "        self.actv = torch.tanh(self.actv)                        #  7.13\n",
    "        self.actv = self.ampli.pow(2).unsqueeze(2) * self.actv   #  7.03\n",
    "        self.actv = self.actv.mean(dim=(0, 1))                   #  3.52\n",
    "        pred = torch.tanh(self.actv - self.theta)                #  7.13\n",
    "        return pred"
   ]
  },
  {
   "cell_type": "code",
   "execution_count": 7,
   "id": "69e90dda",
   "metadata": {},
   "outputs": [],
   "source": [
    " class TrainParallelSyn():\n",
    "    def __init__(self, params):\n",
    "        for k in params:\n",
    "            setattr(self, k, params[k])\n",
    "        self.loss_history = deque()\n",
    "        self.acc_history = deque()\n",
    "    def lossFunc(self, model, label): \n",
    "        self.loss = hingeLoss(model.actv, model.theta, label, self.margin) \n",
    "    def accu(self, model, label):\n",
    "        self.acc = (torch.sign(model.actv - model.theta) == label).sum()/self.P \n",
    "    def train(self, model, label, data):\n",
    "        self.optim = torch.optim.Adam([\n",
    "            {\"params\": model.ampli},\n",
    "            {\"params\": model.slope},\n",
    "            {\"params\": model.theta},\n",
    "            {\"params\": model.thres, 'lr': self.threslr}\n",
    "            ], lr = self.adamlr)\n",
    "#         self.scheduler = ReduceLROnPlateau(self.optim, mode = 'max', factor = 0.9, patience = 1)\n",
    "        \n",
    "        self.thresPool = torch.tensor(inverse_cdf(np.random.uniform(size= (self.NthresPool,1))), device = model.device).float()\n",
    "        for k in range(self.Nepoch): \n",
    "            if self.shuffle:\n",
    "                self.shuffle_invalid(model)\n",
    "            with torch.no_grad():\n",
    "                model.slope.clamp_min_(0)\n",
    "                \n",
    "            self.optim.zero_grad()\n",
    "            model.forward(data) \n",
    "            \n",
    "            self.lossFunc(model, label)\n",
    "            self.loss.backward()    \n",
    "            self.optim.step() \n",
    "            self.accu(model, label)\n",
    "            \n",
    "            if (k % self.downSample) == 0: \n",
    "                if len(self.acc_history) > self.maxRecord * self.downSample:\n",
    "                    self.acc_history.popleft()\n",
    "                    self.loss_history.popleft()\n",
    "                self.acc_history.append(self.acc.detach())\n",
    "                self.loss_history.append(self.loss.detach()) \n",
    "            if self.acc > 0.9999999:\n",
    "                break\n",
    "#         self.scheduler.step(self.acc)\n",
    "        \n",
    "    def shuffle_invalid(self, model):\n",
    "        with torch.no_grad():\n",
    "            mask = model.ampli < self.minAmpli\n",
    "            model.thres[mask] = self.thresPool[torch.randint(self.NthresPool, (mask.sum(),))].ravel()\n",
    "                                #inverse_cdf(torch.rand(mask.sum(), device=model.device))\n",
    "            model.ampli[mask] = self.minAmpli"
   ]
  },
  {
   "cell_type": "code",
   "execution_count": 8,
   "id": "f30dfb01",
   "metadata": {},
   "outputs": [],
   "source": [
    "model_params = {\n",
    "     'N': 100, # input dimension\n",
    "     'M': 5,# parallel synapse number \n",
    "     'seed': 1,\n",
    "     'device': torch.device('cuda:0')\n",
    "     }   \n",
    "train_params = {\n",
    "          'margin': 0.1, # only applied when 'loss' is hinge\n",
    "          'threslr': 1e-6,\n",
    "          'adamlr': 0.003,\n",
    "    'minAmpli': 1e-1,\n",
    "    'Nepoch': 8000,\n",
    "    'P': 80000,\n",
    "    'Ntrial': 20,\n",
    "    'shuffle': True,\n",
    "    'maxRecord': 4000,\n",
    "    'downSample': 20,\n",
    "    'NthresPool': 4000\n",
    "}  "
   ]
  },
  {
   "cell_type": "code",
   "execution_count": null,
   "id": "7fc68a02",
   "metadata": {},
   "outputs": [
    {
     "name": "stdout",
     "output_type": "stream",
     "text": [
      "\u001b[0mN:500 M:5 margin:0.1 threslr:1e:06 adamlr:0.003 minAmpli:0.1 P:4000 Ntrial:20 shuffle:True maxRecord:4000 downSample:20 NthresPool:4000 seed:0\n",
      "time past: 0:04:37.459022\n",
      "repeat 16 threslr: 1e-06 adamlr: 0.003\n",
      "0\n"
     ]
    },
    {
     "data": {
      "image/png": "[encoded data removed]",
      "text/plain": [
       "<Figure size 800x500 with 5 Axes>"
      ]
     },
     "metadata": {},
     "output_type": "display_data"
    }
   ],
   "source": [
    "Ntrial = train_params['Ntrial']\n",
    "\n",
    "folder = './result'\n",
    "for P in [800]:\n",
    "    accAfter = np.zeros((Ntrial, 1), dtype = float)  \n",
    "    train_params['P'] = P\n",
    "    \n",
    "    for seed in range(Ntrial):\n",
    "        \n",
    "        inputX, label = generate_data_torch(nDimension = model_params['N'], \\\n",
    "                                            nSample = train_params['P'], \\\n",
    "                                            randomSeed = model_params['seed'],\n",
    "                                           device = model_params['device']) \n",
    "        path = ''\n",
    "        for k in model_params: \n",
    "            if k != 'seed' and k!= 'device':\n",
    "                path += k + '-'+str(model_params[k]) + '_'\n",
    "        for k in train_params: \n",
    "            if k!='Nepoch':\n",
    "                path += k + '-'+str(train_params[k]) + '_'  \n",
    "\n",
    "        path += 'seed-'+str(seed)\n",
    "\n",
    "        data_ = torch.vstack((inputX.cpu(),label.cpu())) \n",
    "        save_model(data_, folder + '/' + path+'_data') \n",
    "        \n",
    "        model_params['seed'] = seed\n",
    "        model = ParallelSyn(model_params)\n",
    "        model.to(model_params['device'])\n",
    "        pred = model.forward(inputX)\n",
    "        \n",
    "        trial = TrainParallelSyn(train_params)\n",
    "        t1 = time.time()\n",
    "        for repeat in range(1000):\n",
    "            \n",
    "                \n",
    "            if (torch.sign(pred) == label).sum().detach().cpu().numpy()/P > 0.99999999:\n",
    "                plot_trial(trial, model, folder + '/'+ path)\n",
    "                save_model(model.state_dict(), folder + '/' + path)\n",
    "                break\n",
    "            trial.train(model,  label, inputX)\n",
    "            pred = model.forward(inputX)\n",
    "            \n",
    "            t2 = time.time()\n",
    "            \n",
    "            clear_output(wait=True)\n",
    "            print('\\033[0m'+  ' '.join(path.replace('-', ':').split('_')))\n",
    "            print('time past: '+str(datetime.timedelta(seconds=t2-t1)))\n",
    "            print('repeat '+str(repeat)+' threslr: '+str(trial.threslr)+' adamlr: '+str(trial.adamlr))  \n",
    "            print((accAfter > 0.9999999).sum())\n",
    "            \n",
    "            plot_trial(trial, model, folder + '/'+ path, repeat,t2-t1)\n",
    "            save_model(model.state_dict(), folder + '/' + path)\n",
    "#             print(trial.optim)\n",
    "        accAfter[seed] = (torch.sum(torch.sign(pred) == label)/P).cpu()\n",
    "\n",
    "    print('\\t success rate: {:.3f}({:.3f})'.format((accAfter==1).mean(), (accAfter==1).std()/np.sqrt(Ntrial)))\n",
    "\n",
    "    \n"
   ]
  },
  {
   "cell_type": "code",
   "execution_count": null,
   "id": "5b986490",
   "metadata": {},
   "outputs": [],
   "source": [
    "\n",
    "def load_model(path):\n",
    "\twith open(path, 'rb') as f:\n",
    "\t\tmodel = pickle.load(f)\n",
    "\treturn model\n",
    "path = './result/N-500_M-5_margin-0.1_threslr-1e-06_adamlr-0.01_minAmpli-0.1_P-4000_Ntrial-20_shuffle-True_maxRecord-2000_downSample-5_NthresPool-2000_seed-0'\n",
    "allthres = []\n",
    "for seed in range(6):\n",
    "    path_ = path[:-1] + str(seed)\n",
    "#     print(path_)\n",
    "    model = ParallelSyn(model_params)\n",
    "    model.load_state_dict(load_model(path_))\n",
    "    data = load_model(path_ + '_data')\n",
    "    pred = model.forward(data[:-1,:].to('cuda:0'))\n",
    "    allthres.append(model.thres.detach().cpu().numpy())\n",
    "    print((torch.sign(pred) == data[-1,:].to('cuda:0')).to(dtype = float).mean())"
   ]
  },
  {
   "cell_type": "code",
   "execution_count": null,
   "id": "e7a1eb0d",
   "metadata": {},
   "outputs": [],
   "source": [
    "def custom_pdf(x, a = 0., b = .1):\n",
    "    return b * (np.abs(x-.5)**2 +np.abs(x-.5)) + a\n",
    "\n",
    "thresPool = (inverse_cdf(np.random.uniform(size= (2000,1))))"
   ]
  },
  {
   "cell_type": "code",
   "execution_count": null,
   "id": "8b446e5e",
   "metadata": {},
   "outputs": [],
   "source": [
    "plt.hist(np.array(allthres).ravel(),bins = 30, density = True,label = 'learnt threshold')\n",
    "plt.hist(thresPool,bins = 30, density = True,alpha = .75,label = 'original distribution')\n",
    "plt.legend()"
   ]
  },
  {
   "cell_type": "code",
   "execution_count": null,
   "id": "85eec615",
   "metadata": {},
   "outputs": [],
   "source": [
    "len(trial.acc_history)"
   ]
  },
  {
   "cell_type": "code",
   "execution_count": null,
   "id": "9505e7d3",
   "metadata": {},
   "outputs": [],
   "source": [
    "trial.acc"
   ]
  },
  {
   "cell_type": "code",
   "execution_count": null,
   "id": "e1ac1bab",
   "metadata": {
    "scrolled": false
   },
   "outputs": [],
   "source": [
    "plot_trial(trial, model, folder + '/'+ path, repeat,t2-t1)"
   ]
  },
  {
   "cell_type": "markdown",
   "id": "c6f835d1",
   "metadata": {},
   "source": [
    "###### "
   ]
  }
 ],
 "metadata": {
  "kernelspec": {
   "display_name": "Python 3 (ipykernel)",
   "language": "python",
   "name": "python3"
  },
  "language_info": {
   "codemirror_mode": {
    "name": "ipython",
    "version": 3
   },
   "file_extension": ".py",
   "mimetype": "text/x-python",
   "name": "python",
   "nbconvert_exporter": "python",
   "pygments_lexer": "ipython3",
   "version": "3.9.12"
  },
  "toc": {
   "base_numbering": 1,
   "nav_menu": {},
   "number_sections": true,
   "sideBar": true,
   "skip_h1_title": false,
   "title_cell": "Table of Contents",
   "title_sidebar": "Contents",
   "toc_cell": false,
   "toc_position": {},
   "toc_section_display": true,
   "toc_window_display": false
  },
  "varInspector": {
   "cols": {
    "lenName": 16,
    "lenType": 16,
    "lenVar": 40
   },
   "kernels_config": {
    "python": {
     "delete_cmd_postfix": "",
     "delete_cmd_prefix": "del ",
     "library": "var_list.py",
     "varRefreshCmd": "print(var_dic_list())"
    },
    "r": {
     "delete_cmd_postfix": ") ",
     "delete_cmd_prefix": "rm(",
     "library": "var_list.r",
     "varRefreshCmd": "cat(var_dic_list()) "
    }
   },
   "types_to_exclude": [
    "module",
    "function",
    "builtin_function_or_method",
    "instance",
    "_Feature"
   ],
   "window_display": false
  }
 },
 "nbformat": 4,
 "nbformat_minor": 5
}
